{
 "metadata": {
  "language_info": {
   "codemirror_mode": {
    "name": "ipython",
    "version": 3
   },
   "file_extension": ".py",
   "mimetype": "text/x-python",
   "name": "python",
   "nbconvert_exporter": "python",
   "pygments_lexer": "ipython3",
   "version": "3.7.10"
  },
  "orig_nbformat": 2,
  "kernelspec": {
   "name": "python3710jvsc74a57bd0dc8f3ea9badafe9fc0f1b4faa22fba7f18b6863e43b73e6df2a27536033ffddf",
   "display_name": "Python 3.7.10 64-bit ('ml': conda)"
  }
 },
 "nbformat": 4,
 "nbformat_minor": 2,
 "cells": [
  {
   "cell_type": "code",
   "execution_count": 11,
   "metadata": {},
   "outputs": [],
   "source": [
    "import numpy as np\n",
    "from matplotlib import pyplot as plt\n",
    "import pandas as pd\n",
    "import requests\n",
    "import urllib3\n",
    "\n",
    "%matplotlib inline"
   ]
  },
  {
   "cell_type": "code",
   "execution_count": 68,
   "metadata": {},
   "outputs": [],
   "source": [
    "bookid = 34321\n",
    "url = 'http://hedonometer.org/data/bookdata/gutenberg-007/'+ str(bookid) +'.csv'\n",
    "# http://hedonometer.org/data/bookdata/gutenberg-007/30637.csv\n",
    "# 对应情感阈值 [4,6]\n",
    "# lower = 2668\n",
    "# upper = 9159\n",
    "lower = 2591\n",
    "upper = 9179\n",
    "bookfile = pd.read_csv('./books/'+str(bookid)+'.csv', header=None, skiprows=range(lower, upper))\n",
    "scorefile = pd.read_csv('labMTscores-english.csv', header=None, skiprows=range(lower, upper))"
   ]
  },
  {
   "cell_type": "code",
   "execution_count": 69,
   "metadata": {},
   "outputs": [],
   "source": [
    "ds = pd.DataFrame(scorefile)\n",
    "scores = np.array(ds).squeeze()"
   ]
  },
  {
   "cell_type": "code",
   "execution_count": 70,
   "metadata": {},
   "outputs": [],
   "source": [
    "def generate_timeseries(bookfile):\n",
    "    book = pd.DataFrame(boofile)\n",
    "    length = 200\n",
    "    minWindows = 10\n",
    "    timeseries = np.zeros(length-minWindows+1)\n",
    "    begtimeseries = np.zeros(int(minWindows/2))\n",
    "    endtimeseries = np.zeros(int(minWindows/2))\n",
    "    N = 0\n",
    "    freq = np.zeros(book.shape[0])\n",
    "    for j in range(int(minWindows/2)):\n",
    "        freq += book[j]\n",
    "    for j in range(int(minWindows/2), minWindows):\n",
    "        N = np.sum(freq)\n",
    "        happs = np.sum(scores*freq)\n",
    "        begtimeseries[j-int(minWindows/2)] = happs/N\n",
    "        freq += book[j]\n",
    "    happs = np.sum(freq * scores)\n",
    "    N = np.sum(freq)\n",
    "    timeseries[0] = happs/N\n",
    "    for j in range(1, length-minWindows+1):\n",
    "        freq += book[j+minWindows-1]\n",
    "        freq -= book[j-1]\n",
    "        happs = np.sum(scores*freq)\n",
    "        N = np.sum(freq)\n",
    "        timeseries[j] = happs/N\n",
    "    for j in range(length-minWindows+1, length):\n",
    "        freq -= book[j-1]\n",
    "        happs = np.sum(scores*freq)\n",
    "        N = np.sum(freq)\n",
    "        endtimeseries[j-length+int(minWindows/2)-1] = happs/N\n",
    "    return timeseries"
   ]
  },
  {
   "cell_type": "code",
   "execution_count": 76,
   "metadata": {},
   "outputs": [
    {
     "output_type": "execute_result",
     "data": {
      "text/plain": [
       "[<matplotlib.lines.Line2D at 0x7fb0ef29a610>]"
      ]
     },
     "metadata": {},
     "execution_count": 76
    },
    {
     "output_type": "display_data",
     "data": {
      "text/plain": "<Figure size 432x288 with 1 Axes>",
      "image/svg+xml": "<?xml version=\"1.0\" encoding=\"utf-8\" standalone=\"no\"?>\n<!DOCTYPE svg PUBLIC \"-//W3C//DTD SVG 1.1//EN\"\n  \"http://www.w3.org/Graphics/SVG/1.1/DTD/svg11.dtd\">\n<!-- Created with matplotlib (https://matplotlib.org/) -->\n<svg height=\"248.518125pt\" version=\"1.1\" viewBox=\"0 0 378.465625 248.518125\" width=\"378.465625pt\" xmlns=\"http://www.w3.org/2000/svg\" xmlns:xlink=\"http://www.w3.org/1999/xlink\">\n <defs>\n  <style type=\"text/css\">\n*{stroke-linecap:butt;stroke-linejoin:round;}\n  </style>\n </defs>\n <g id=\"figure_1\">\n  <g id=\"patch_1\">\n   <path d=\"M 0 248.518125 \nL 378.465625 248.518125 \nL 378.465625 0 \nL 0 0 \nz\n\" style=\"fill:none;\"/>\n  </g>\n  <g id=\"axes_1\">\n   <g id=\"patch_2\">\n    <path d=\"M 36.465625 224.64 \nL 371.265625 224.64 \nL 371.265625 7.2 \nL 36.465625 7.2 \nz\n\" style=\"fill:#ffffff;\"/>\n   </g>\n   <g id=\"matplotlib.axis_1\">\n    <g id=\"xtick_1\">\n     <g id=\"line2d_1\">\n      <defs>\n       <path d=\"M 0 0 \nL 0 3.5 \n\" id=\"maae7001f18\" style=\"stroke:#000000;stroke-width:0.8;\"/>\n      </defs>\n      <g>\n       <use style=\"stroke:#000000;stroke-width:0.8;\" x=\"51.683807\" xlink:href=\"#maae7001f18\" y=\"224.64\"/>\n      </g>\n     </g>\n     <g id=\"text_1\">\n      <!-- 0 -->\n      <defs>\n       <path d=\"M 31.78125 66.40625 \nQ 24.171875 66.40625 20.328125 58.90625 \nQ 16.5 51.421875 16.5 36.375 \nQ 16.5 21.390625 20.328125 13.890625 \nQ 24.171875 6.390625 31.78125 6.390625 \nQ 39.453125 6.390625 43.28125 13.890625 \nQ 47.125 21.390625 47.125 36.375 \nQ 47.125 51.421875 43.28125 58.90625 \nQ 39.453125 66.40625 31.78125 66.40625 \nz\nM 31.78125 74.21875 \nQ 44.046875 74.21875 50.515625 64.515625 \nQ 56.984375 54.828125 56.984375 36.375 \nQ 56.984375 17.96875 50.515625 8.265625 \nQ 44.046875 -1.421875 31.78125 -1.421875 \nQ 19.53125 -1.421875 13.0625 8.265625 \nQ 6.59375 17.96875 6.59375 36.375 \nQ 6.59375 54.828125 13.0625 64.515625 \nQ 19.53125 74.21875 31.78125 74.21875 \nz\n\" id=\"DejaVuSans-48\"/>\n      </defs>\n      <g transform=\"translate(48.502557 239.238437)scale(0.1 -0.1)\">\n       <use xlink:href=\"#DejaVuSans-48\"/>\n      </g>\n     </g>\n    </g>\n    <g id=\"xtick_2\">\n     <g id=\"line2d_2\">\n      <g>\n       <use style=\"stroke:#000000;stroke-width:0.8;\" x=\"91.731654\" xlink:href=\"#maae7001f18\" y=\"224.64\"/>\n      </g>\n     </g>\n     <g id=\"text_2\">\n      <!-- 25 -->\n      <defs>\n       <path d=\"M 19.1875 8.296875 \nL 53.609375 8.296875 \nL 53.609375 0 \nL 7.328125 0 \nL 7.328125 8.296875 \nQ 12.9375 14.109375 22.625 23.890625 \nQ 32.328125 33.6875 34.8125 36.53125 \nQ 39.546875 41.84375 41.421875 45.53125 \nQ 43.3125 49.21875 43.3125 52.78125 \nQ 43.3125 58.59375 39.234375 62.25 \nQ 35.15625 65.921875 28.609375 65.921875 \nQ 23.96875 65.921875 18.8125 64.3125 \nQ 13.671875 62.703125 7.8125 59.421875 \nL 7.8125 69.390625 \nQ 13.765625 71.78125 18.9375 73 \nQ 24.125 74.21875 28.421875 74.21875 \nQ 39.75 74.21875 46.484375 68.546875 \nQ 53.21875 62.890625 53.21875 53.421875 \nQ 53.21875 48.921875 51.53125 44.890625 \nQ 49.859375 40.875 45.40625 35.40625 \nQ 44.1875 33.984375 37.640625 27.21875 \nQ 31.109375 20.453125 19.1875 8.296875 \nz\n\" id=\"DejaVuSans-50\"/>\n       <path d=\"M 10.796875 72.90625 \nL 49.515625 72.90625 \nL 49.515625 64.59375 \nL 19.828125 64.59375 \nL 19.828125 46.734375 \nQ 21.96875 47.46875 24.109375 47.828125 \nQ 26.265625 48.1875 28.421875 48.1875 \nQ 40.625 48.1875 47.75 41.5 \nQ 54.890625 34.8125 54.890625 23.390625 \nQ 54.890625 11.625 47.5625 5.09375 \nQ 40.234375 -1.421875 26.90625 -1.421875 \nQ 22.3125 -1.421875 17.546875 -0.640625 \nQ 12.796875 0.140625 7.71875 1.703125 \nL 7.71875 11.625 \nQ 12.109375 9.234375 16.796875 8.0625 \nQ 21.484375 6.890625 26.703125 6.890625 \nQ 35.15625 6.890625 40.078125 11.328125 \nQ 45.015625 15.765625 45.015625 23.390625 \nQ 45.015625 31 40.078125 35.4375 \nQ 35.15625 39.890625 26.703125 39.890625 \nQ 22.75 39.890625 18.8125 39.015625 \nQ 14.890625 38.140625 10.796875 36.28125 \nz\n\" id=\"DejaVuSans-53\"/>\n      </defs>\n      <g transform=\"translate(85.369154 239.238437)scale(0.1 -0.1)\">\n       <use xlink:href=\"#DejaVuSans-50\"/>\n       <use x=\"63.623047\" xlink:href=\"#DejaVuSans-53\"/>\n      </g>\n     </g>\n    </g>\n    <g id=\"xtick_3\">\n     <g id=\"line2d_3\">\n      <g>\n       <use style=\"stroke:#000000;stroke-width:0.8;\" x=\"131.779501\" xlink:href=\"#maae7001f18\" y=\"224.64\"/>\n      </g>\n     </g>\n     <g id=\"text_3\">\n      <!-- 50 -->\n      <g transform=\"translate(125.417001 239.238437)scale(0.1 -0.1)\">\n       <use xlink:href=\"#DejaVuSans-53\"/>\n       <use x=\"63.623047\" xlink:href=\"#DejaVuSans-48\"/>\n      </g>\n     </g>\n    </g>\n    <g id=\"xtick_4\">\n     <g id=\"line2d_4\">\n      <g>\n       <use style=\"stroke:#000000;stroke-width:0.8;\" x=\"171.827347\" xlink:href=\"#maae7001f18\" y=\"224.64\"/>\n      </g>\n     </g>\n     <g id=\"text_4\">\n      <!-- 75 -->\n      <defs>\n       <path d=\"M 8.203125 72.90625 \nL 55.078125 72.90625 \nL 55.078125 68.703125 \nL 28.609375 0 \nL 18.3125 0 \nL 43.21875 64.59375 \nL 8.203125 64.59375 \nz\n\" id=\"DejaVuSans-55\"/>\n      </defs>\n      <g transform=\"translate(165.464847 239.238437)scale(0.1 -0.1)\">\n       <use xlink:href=\"#DejaVuSans-55\"/>\n       <use x=\"63.623047\" xlink:href=\"#DejaVuSans-53\"/>\n      </g>\n     </g>\n    </g>\n    <g id=\"xtick_5\">\n     <g id=\"line2d_5\">\n      <g>\n       <use style=\"stroke:#000000;stroke-width:0.8;\" x=\"211.875194\" xlink:href=\"#maae7001f18\" y=\"224.64\"/>\n      </g>\n     </g>\n     <g id=\"text_5\">\n      <!-- 100 -->\n      <defs>\n       <path d=\"M 12.40625 8.296875 \nL 28.515625 8.296875 \nL 28.515625 63.921875 \nL 10.984375 60.40625 \nL 10.984375 69.390625 \nL 28.421875 72.90625 \nL 38.28125 72.90625 \nL 38.28125 8.296875 \nL 54.390625 8.296875 \nL 54.390625 0 \nL 12.40625 0 \nz\n\" id=\"DejaVuSans-49\"/>\n      </defs>\n      <g transform=\"translate(202.331444 239.238437)scale(0.1 -0.1)\">\n       <use xlink:href=\"#DejaVuSans-49\"/>\n       <use x=\"63.623047\" xlink:href=\"#DejaVuSans-48\"/>\n       <use x=\"127.246094\" xlink:href=\"#DejaVuSans-48\"/>\n      </g>\n     </g>\n    </g>\n    <g id=\"xtick_6\">\n     <g id=\"line2d_6\">\n      <g>\n       <use style=\"stroke:#000000;stroke-width:0.8;\" x=\"251.923041\" xlink:href=\"#maae7001f18\" y=\"224.64\"/>\n      </g>\n     </g>\n     <g id=\"text_6\">\n      <!-- 125 -->\n      <g transform=\"translate(242.379291 239.238437)scale(0.1 -0.1)\">\n       <use xlink:href=\"#DejaVuSans-49\"/>\n       <use x=\"63.623047\" xlink:href=\"#DejaVuSans-50\"/>\n       <use x=\"127.246094\" xlink:href=\"#DejaVuSans-53\"/>\n      </g>\n     </g>\n    </g>\n    <g id=\"xtick_7\">\n     <g id=\"line2d_7\">\n      <g>\n       <use style=\"stroke:#000000;stroke-width:0.8;\" x=\"291.970888\" xlink:href=\"#maae7001f18\" y=\"224.64\"/>\n      </g>\n     </g>\n     <g id=\"text_7\">\n      <!-- 150 -->\n      <g transform=\"translate(282.427138 239.238437)scale(0.1 -0.1)\">\n       <use xlink:href=\"#DejaVuSans-49\"/>\n       <use x=\"63.623047\" xlink:href=\"#DejaVuSans-53\"/>\n       <use x=\"127.246094\" xlink:href=\"#DejaVuSans-48\"/>\n      </g>\n     </g>\n    </g>\n    <g id=\"xtick_8\">\n     <g id=\"line2d_8\">\n      <g>\n       <use style=\"stroke:#000000;stroke-width:0.8;\" x=\"332.018735\" xlink:href=\"#maae7001f18\" y=\"224.64\"/>\n      </g>\n     </g>\n     <g id=\"text_8\">\n      <!-- 175 -->\n      <g transform=\"translate(322.474985 239.238437)scale(0.1 -0.1)\">\n       <use xlink:href=\"#DejaVuSans-49\"/>\n       <use x=\"63.623047\" xlink:href=\"#DejaVuSans-55\"/>\n       <use x=\"127.246094\" xlink:href=\"#DejaVuSans-53\"/>\n      </g>\n     </g>\n    </g>\n   </g>\n   <g id=\"matplotlib.axis_2\">\n    <g id=\"ytick_1\">\n     <g id=\"line2d_9\">\n      <defs>\n       <path d=\"M 0 0 \nL -3.5 0 \n\" id=\"ma6855a7697\" style=\"stroke:#000000;stroke-width:0.8;\"/>\n      </defs>\n      <g>\n       <use style=\"stroke:#000000;stroke-width:0.8;\" x=\"36.465625\" xlink:href=\"#ma6855a7697\" y=\"220.835372\"/>\n      </g>\n     </g>\n     <g id=\"text_9\">\n      <!-- 5.75 -->\n      <defs>\n       <path d=\"M 10.6875 12.40625 \nL 21 12.40625 \nL 21 0 \nL 10.6875 0 \nz\n\" id=\"DejaVuSans-46\"/>\n      </defs>\n      <g transform=\"translate(7.2 224.634591)scale(0.1 -0.1)\">\n       <use xlink:href=\"#DejaVuSans-53\"/>\n       <use x=\"63.623047\" xlink:href=\"#DejaVuSans-46\"/>\n       <use x=\"95.410156\" xlink:href=\"#DejaVuSans-55\"/>\n       <use x=\"159.033203\" xlink:href=\"#DejaVuSans-53\"/>\n      </g>\n     </g>\n    </g>\n    <g id=\"ytick_2\">\n     <g id=\"line2d_10\">\n      <g>\n       <use style=\"stroke:#000000;stroke-width:0.8;\" x=\"36.465625\" xlink:href=\"#ma6855a7697\" y=\"183.902239\"/>\n      </g>\n     </g>\n     <g id=\"text_10\">\n      <!-- 5.80 -->\n      <defs>\n       <path d=\"M 31.78125 34.625 \nQ 24.75 34.625 20.71875 30.859375 \nQ 16.703125 27.09375 16.703125 20.515625 \nQ 16.703125 13.921875 20.71875 10.15625 \nQ 24.75 6.390625 31.78125 6.390625 \nQ 38.8125 6.390625 42.859375 10.171875 \nQ 46.921875 13.96875 46.921875 20.515625 \nQ 46.921875 27.09375 42.890625 30.859375 \nQ 38.875 34.625 31.78125 34.625 \nz\nM 21.921875 38.8125 \nQ 15.578125 40.375 12.03125 44.71875 \nQ 8.5 49.078125 8.5 55.328125 \nQ 8.5 64.0625 14.71875 69.140625 \nQ 20.953125 74.21875 31.78125 74.21875 \nQ 42.671875 74.21875 48.875 69.140625 \nQ 55.078125 64.0625 55.078125 55.328125 \nQ 55.078125 49.078125 51.53125 44.71875 \nQ 48 40.375 41.703125 38.8125 \nQ 48.828125 37.15625 52.796875 32.3125 \nQ 56.78125 27.484375 56.78125 20.515625 \nQ 56.78125 9.90625 50.3125 4.234375 \nQ 43.84375 -1.421875 31.78125 -1.421875 \nQ 19.734375 -1.421875 13.25 4.234375 \nQ 6.78125 9.90625 6.78125 20.515625 \nQ 6.78125 27.484375 10.78125 32.3125 \nQ 14.796875 37.15625 21.921875 38.8125 \nz\nM 18.3125 54.390625 \nQ 18.3125 48.734375 21.84375 45.5625 \nQ 25.390625 42.390625 31.78125 42.390625 \nQ 38.140625 42.390625 41.71875 45.5625 \nQ 45.3125 48.734375 45.3125 54.390625 \nQ 45.3125 60.0625 41.71875 63.234375 \nQ 38.140625 66.40625 31.78125 66.40625 \nQ 25.390625 66.40625 21.84375 63.234375 \nQ 18.3125 60.0625 18.3125 54.390625 \nz\n\" id=\"DejaVuSans-56\"/>\n      </defs>\n      <g transform=\"translate(7.2 187.701457)scale(0.1 -0.1)\">\n       <use xlink:href=\"#DejaVuSans-53\"/>\n       <use x=\"63.623047\" xlink:href=\"#DejaVuSans-46\"/>\n       <use x=\"95.410156\" xlink:href=\"#DejaVuSans-56\"/>\n       <use x=\"159.033203\" xlink:href=\"#DejaVuSans-48\"/>\n      </g>\n     </g>\n    </g>\n    <g id=\"ytick_3\">\n     <g id=\"line2d_11\">\n      <g>\n       <use style=\"stroke:#000000;stroke-width:0.8;\" x=\"36.465625\" xlink:href=\"#ma6855a7697\" y=\"146.969105\"/>\n      </g>\n     </g>\n     <g id=\"text_11\">\n      <!-- 5.85 -->\n      <g transform=\"translate(7.2 150.768324)scale(0.1 -0.1)\">\n       <use xlink:href=\"#DejaVuSans-53\"/>\n       <use x=\"63.623047\" xlink:href=\"#DejaVuSans-46\"/>\n       <use x=\"95.410156\" xlink:href=\"#DejaVuSans-56\"/>\n       <use x=\"159.033203\" xlink:href=\"#DejaVuSans-53\"/>\n      </g>\n     </g>\n    </g>\n    <g id=\"ytick_4\">\n     <g id=\"line2d_12\">\n      <g>\n       <use style=\"stroke:#000000;stroke-width:0.8;\" x=\"36.465625\" xlink:href=\"#ma6855a7697\" y=\"110.035972\"/>\n      </g>\n     </g>\n     <g id=\"text_12\">\n      <!-- 5.90 -->\n      <defs>\n       <path d=\"M 10.984375 1.515625 \nL 10.984375 10.5 \nQ 14.703125 8.734375 18.5 7.8125 \nQ 22.3125 6.890625 25.984375 6.890625 \nQ 35.75 6.890625 40.890625 13.453125 \nQ 46.046875 20.015625 46.78125 33.40625 \nQ 43.953125 29.203125 39.59375 26.953125 \nQ 35.25 24.703125 29.984375 24.703125 \nQ 19.046875 24.703125 12.671875 31.3125 \nQ 6.296875 37.9375 6.296875 49.421875 \nQ 6.296875 60.640625 12.9375 67.421875 \nQ 19.578125 74.21875 30.609375 74.21875 \nQ 43.265625 74.21875 49.921875 64.515625 \nQ 56.59375 54.828125 56.59375 36.375 \nQ 56.59375 19.140625 48.40625 8.859375 \nQ 40.234375 -1.421875 26.421875 -1.421875 \nQ 22.703125 -1.421875 18.890625 -0.6875 \nQ 15.09375 0.046875 10.984375 1.515625 \nz\nM 30.609375 32.421875 \nQ 37.25 32.421875 41.125 36.953125 \nQ 45.015625 41.5 45.015625 49.421875 \nQ 45.015625 57.28125 41.125 61.84375 \nQ 37.25 66.40625 30.609375 66.40625 \nQ 23.96875 66.40625 20.09375 61.84375 \nQ 16.21875 57.28125 16.21875 49.421875 \nQ 16.21875 41.5 20.09375 36.953125 \nQ 23.96875 32.421875 30.609375 32.421875 \nz\n\" id=\"DejaVuSans-57\"/>\n      </defs>\n      <g transform=\"translate(7.2 113.835191)scale(0.1 -0.1)\">\n       <use xlink:href=\"#DejaVuSans-53\"/>\n       <use x=\"63.623047\" xlink:href=\"#DejaVuSans-46\"/>\n       <use x=\"95.410156\" xlink:href=\"#DejaVuSans-57\"/>\n       <use x=\"159.033203\" xlink:href=\"#DejaVuSans-48\"/>\n      </g>\n     </g>\n    </g>\n    <g id=\"ytick_5\">\n     <g id=\"line2d_13\">\n      <g>\n       <use style=\"stroke:#000000;stroke-width:0.8;\" x=\"36.465625\" xlink:href=\"#ma6855a7697\" y=\"73.102839\"/>\n      </g>\n     </g>\n     <g id=\"text_13\">\n      <!-- 5.95 -->\n      <g transform=\"translate(7.2 76.902058)scale(0.1 -0.1)\">\n       <use xlink:href=\"#DejaVuSans-53\"/>\n       <use x=\"63.623047\" xlink:href=\"#DejaVuSans-46\"/>\n       <use x=\"95.410156\" xlink:href=\"#DejaVuSans-57\"/>\n       <use x=\"159.033203\" xlink:href=\"#DejaVuSans-53\"/>\n      </g>\n     </g>\n    </g>\n    <g id=\"ytick_6\">\n     <g id=\"line2d_14\">\n      <g>\n       <use style=\"stroke:#000000;stroke-width:0.8;\" x=\"36.465625\" xlink:href=\"#ma6855a7697\" y=\"36.169706\"/>\n      </g>\n     </g>\n     <g id=\"text_14\">\n      <!-- 6.00 -->\n      <defs>\n       <path d=\"M 33.015625 40.375 \nQ 26.375 40.375 22.484375 35.828125 \nQ 18.609375 31.296875 18.609375 23.390625 \nQ 18.609375 15.53125 22.484375 10.953125 \nQ 26.375 6.390625 33.015625 6.390625 \nQ 39.65625 6.390625 43.53125 10.953125 \nQ 47.40625 15.53125 47.40625 23.390625 \nQ 47.40625 31.296875 43.53125 35.828125 \nQ 39.65625 40.375 33.015625 40.375 \nz\nM 52.59375 71.296875 \nL 52.59375 62.3125 \nQ 48.875 64.0625 45.09375 64.984375 \nQ 41.3125 65.921875 37.59375 65.921875 \nQ 27.828125 65.921875 22.671875 59.328125 \nQ 17.53125 52.734375 16.796875 39.40625 \nQ 19.671875 43.65625 24.015625 45.921875 \nQ 28.375 48.1875 33.59375 48.1875 \nQ 44.578125 48.1875 50.953125 41.515625 \nQ 57.328125 34.859375 57.328125 23.390625 \nQ 57.328125 12.15625 50.6875 5.359375 \nQ 44.046875 -1.421875 33.015625 -1.421875 \nQ 20.359375 -1.421875 13.671875 8.265625 \nQ 6.984375 17.96875 6.984375 36.375 \nQ 6.984375 53.65625 15.1875 63.9375 \nQ 23.390625 74.21875 37.203125 74.21875 \nQ 40.921875 74.21875 44.703125 73.484375 \nQ 48.484375 72.75 52.59375 71.296875 \nz\n\" id=\"DejaVuSans-54\"/>\n      </defs>\n      <g transform=\"translate(7.2 39.968925)scale(0.1 -0.1)\">\n       <use xlink:href=\"#DejaVuSans-54\"/>\n       <use x=\"63.623047\" xlink:href=\"#DejaVuSans-46\"/>\n       <use x=\"95.410156\" xlink:href=\"#DejaVuSans-48\"/>\n       <use x=\"159.033203\" xlink:href=\"#DejaVuSans-48\"/>\n      </g>\n     </g>\n    </g>\n   </g>\n   <g id=\"line2d_15\">\n    <path clip-path=\"url(#pdecca18fcf)\" d=\"M 51.683807 110.58154 \nL 53.285721 116.997344 \nL 54.887635 122.949546 \nL 56.489548 128.001775 \nL 58.091462 132.497883 \nL 59.693376 135.745362 \nL 61.29529 135.638107 \nL 62.897204 132.603246 \nL 67.702946 111.551476 \nL 69.304859 102.432503 \nL 70.906773 94.002574 \nL 75.712515 66.455943 \nL 78.916343 47.462116 \nL 82.12017 32.257506 \nL 83.722084 26.178471 \nL 85.323998 22.534295 \nL 86.925912 19.291567 \nL 88.527826 17.27642 \nL 90.12974 17.083636 \nL 91.731654 17.383807 \nL 93.333568 21.677845 \nL 94.935481 27.875576 \nL 96.537395 32.969732 \nL 98.139309 37.672932 \nL 99.741223 41.575993 \nL 101.343137 43.828186 \nL 102.945051 45.108455 \nL 104.546965 45.791169 \nL 106.148879 45.01617 \nL 107.750792 43.394867 \nL 110.95462 36.143256 \nL 112.556534 33.991534 \nL 117.362276 25.793943 \nL 118.96419 23.356658 \nL 120.566103 22.184369 \nL 122.168017 20.485857 \nL 123.769931 17.932905 \nL 125.371845 17.83626 \nL 126.973759 18.601345 \nL 128.575673 18.792783 \nL 130.177587 22.100944 \nL 131.779501 27.459107 \nL 133.381414 33.826339 \nL 134.983328 42.226263 \nL 136.585242 51.418852 \nL 139.78907 71.724153 \nL 142.992898 88.174519 \nL 144.594812 95.524538 \nL 146.196725 101.191881 \nL 147.798639 104.888972 \nL 149.400553 108.02588 \nL 151.002467 107.445194 \nL 152.604381 104.726963 \nL 154.206295 101.13459 \nL 155.808209 97.855046 \nL 157.410123 94.925146 \nL 159.012036 89.575005 \nL 160.61395 83.278691 \nL 163.817778 68.805291 \nL 165.419692 60.376909 \nL 167.021606 54.998327 \nL 168.62352 50.830775 \nL 170.225434 47.509984 \nL 171.827347 45.000862 \nL 173.429261 43.212719 \nL 175.031175 43.812275 \nL 176.633089 45.689515 \nL 178.235003 47.07246 \nL 179.836917 50.683886 \nL 181.438831 56.183479 \nL 187.846486 84.352252 \nL 189.4484 89.903378 \nL 191.050314 95.023419 \nL 192.652228 98.54901 \nL 194.254142 104.221903 \nL 195.856056 107.423578 \nL 197.457969 108.726871 \nL 199.059883 106.542657 \nL 200.661797 102.699529 \nL 202.263711 99.746269 \nL 203.865625 94.85605 \nL 205.467539 93.256652 \nL 207.069453 92.176219 \nL 208.671367 93.830219 \nL 211.875194 95.003308 \nL 213.477108 94.397606 \nL 215.079022 95.07079 \nL 216.680936 97.152051 \nL 218.28285 101.096197 \nL 219.884764 106.435872 \nL 221.486678 110.819177 \nL 223.088592 113.747152 \nL 224.690505 116.949642 \nL 226.292419 120.732916 \nL 227.894333 125.5074 \nL 229.496247 132.414584 \nL 232.700075 144.4568 \nL 234.301989 147.565088 \nL 235.903903 151.046304 \nL 237.505816 152.884044 \nL 239.10773 154.490651 \nL 240.709644 153.510916 \nL 242.311558 152.182548 \nL 243.913472 151.878186 \nL 245.515386 150.774166 \nL 247.1173 147.889439 \nL 248.719214 144.199867 \nL 250.321127 141.327426 \nL 251.923041 137.655137 \nL 253.524955 132.773647 \nL 255.126869 128.933208 \nL 256.728783 127.861039 \nL 258.330697 126.549503 \nL 259.932611 123.420474 \nL 261.534525 119.533956 \nL 264.738352 115.418283 \nL 266.340266 113.075388 \nL 267.94218 112.20889 \nL 269.544094 113.311899 \nL 271.146008 113.378857 \nL 272.747922 112.242063 \nL 274.349836 112.372039 \nL 275.951749 115.471305 \nL 277.553663 120.848696 \nL 280.757491 134.025558 \nL 282.359405 142.73554 \nL 285.563233 155.136186 \nL 287.165147 160.821113 \nL 288.76706 167.080005 \nL 290.368974 174.287426 \nL 291.970888 178.950748 \nL 293.572802 182.836696 \nL 295.174716 188.068917 \nL 296.77663 192.555236 \nL 298.378544 194.217397 \nL 299.980458 196.232848 \nL 301.582371 197.983231 \nL 303.184285 198.462509 \nL 304.786199 197.512958 \nL 306.388113 194.53513 \nL 307.990027 193.014313 \nL 309.591941 192.614945 \nL 311.193855 189.202692 \nL 312.795769 187.962499 \nL 314.397682 186.521834 \nL 315.999596 186.3432 \nL 317.60151 186.76476 \nL 319.203424 189.027465 \nL 320.805338 190.413626 \nL 322.407252 191.489364 \nL 324.009166 191.695894 \nL 325.61108 191.496116 \nL 328.814907 197.378143 \nL 330.416821 202.138971 \nL 332.018735 205.52127 \nL 333.620649 207.986918 \nL 335.222563 209.474745 \nL 336.824477 210.161967 \nL 338.426391 210.1658 \nL 340.028304 212.343329 \nL 341.630218 214.756364 \nL 343.232132 214.737675 \nL 344.834046 212.679335 \nL 346.43596 208.771534 \nL 348.037874 203.881931 \nL 349.639788 199.664461 \nL 351.241702 197.081983 \nL 352.843615 195.530745 \nL 354.445529 192.727483 \nL 356.047443 185.495367 \nL 356.047443 185.495367 \n\" style=\"fill:none;stroke:#1f77b4;stroke-linecap:square;stroke-width:1.5;\"/>\n   </g>\n   <g id=\"patch_3\">\n    <path d=\"M 36.465625 224.64 \nL 36.465625 7.2 \n\" style=\"fill:none;stroke:#000000;stroke-linecap:square;stroke-linejoin:miter;stroke-width:0.8;\"/>\n   </g>\n   <g id=\"patch_4\">\n    <path d=\"M 371.265625 224.64 \nL 371.265625 7.2 \n\" style=\"fill:none;stroke:#000000;stroke-linecap:square;stroke-linejoin:miter;stroke-width:0.8;\"/>\n   </g>\n   <g id=\"patch_5\">\n    <path d=\"M 36.465625 224.64 \nL 371.265625 224.64 \n\" style=\"fill:none;stroke:#000000;stroke-linecap:square;stroke-linejoin:miter;stroke-width:0.8;\"/>\n   </g>\n   <g id=\"patch_6\">\n    <path d=\"M 36.465625 7.2 \nL 371.265625 7.2 \n\" style=\"fill:none;stroke:#000000;stroke-linecap:square;stroke-linejoin:miter;stroke-width:0.8;\"/>\n   </g>\n  </g>\n </g>\n <defs>\n  <clipPath id=\"pdecca18fcf\">\n   <rect height=\"217.44\" width=\"334.8\" x=\"36.465625\" y=\"7.2\"/>\n  </clipPath>\n </defs>\n</svg>\n",
      "image/png": "[encoded data removed]"
     },
     "metadata": {
      "needs_background": "light"
     }
    }
   ],
   "source": [
    "plt.plot(timeseries)"
   ]
  },
  {
   "cell_type": "code",
   "execution_count": 77,
   "metadata": {},
   "outputs": [],
   "source": [
    "def cal_surprise(timeseries):\n",
    "    l = timeseries.shape[0]\n",
    "    sur = 0\n",
    "    for i in range(1, l):\n",
    "        sur += abs(timeseries[i] - timeseries[i-1])\n",
    "    return sur"
   ]
  },
  {
   "cell_type": "code",
   "execution_count": 3,
   "metadata": {
    "tags": []
   },
   "outputs": [
    {
     "output_type": "stream",
     "name": "stdout",
     "text": [
      "<p class=\"basicinfobox\">\n\t    Title:\n\t    <br/>\n\t    Author:\n\t    <br/>\n\t    Language:\n\t    <br/>\n\t    Number of Words: \n\t    <br/>\n\t    Average Happiness: \n\t    <br/>\n\t    Taxonomy (detected story type): \n\t    <br/>\n\t    Most Similar:\n\t    <br/>\n\t    Hedonometric Analysis:\n\t    <br/>\n\t    Hedonometer views:\n\t    <br/>\n\t    Project Gutenberg downloads:\n\t    <br/>\n\t    Project Gutenberg page:\n\t  </p>\n"
     ]
    }
   ],
   "source": [
    "import requests\n",
    "from bs4 import BeautifulSoup\n",
    "r = requests.get(\"http://hedonometer.org/books/v3/34318/?lens=[4,6]\")\n",
    "soup = BeautifulSoup(r.text, 'html.parser')\n",
    "print(soup.find_all('p')[7])"
   ]
  },
  {
   "cell_type": "code",
   "execution_count": 4,
   "metadata": {},
   "outputs": [],
   "source": [
    "from selenium import webdriver\n",
    "options = webdriver.ChromeOptions()\n",
    "options.add_argument('user-agent=\"MQQBrowser/26 Mozilla/5.0 (Linux; U; Android 2.3.7; zh-cn; MB200 Build/GRJ22; CyanogenMod-7) AppleWebKit/533.1 (KHTML, like Gecko) Version/4.0 Mobile Safari/533.1\"')\n",
    "options.add_argument('--disable-gpu') \n",
    "# 不加载图片, 提升速度\n",
    "options.add_argument('blink-settings=imagesEnabled=false')\n",
    "# 浏览器不提供可视化页面. linux下如果系统不支持可视化不加这条会启动失败\n",
    "options.add_argument('--headless')\n",
    "url = 'http://hedonometer.org/books/v3/34318/?lens=[4,6]'\n",
    "path = './chromedriver'\n",
    "driver = webdriver.Chrome(options=options, executable_path=path)\n",
    "driver.get(url)\n",
    "text = driver.find_element_by_class_name('basicinfobox')"
   ]
  },
  {
   "cell_type": "code",
   "execution_count": 67,
   "metadata": {},
   "outputs": [],
   "source": [
    "url = 'http://hedonometer.org/data/bookdata/gutenberg-007/34322.csv'\n",
    "driver.get(url)"
   ]
  },
  {
   "cell_type": "code",
   "execution_count": 9,
   "metadata": {},
   "outputs": [
    {
     "output_type": "execute_result",
     "data": {
      "text/plain": [
       "'Title: Life Blood\\nAuthor: Hoover, Thomas\\nLanguage: English\\nNumber of Words: 1,813,068\\nAverage Happiness: 5.882\\nDownloads from Project Gutenberg: 38\\nExcluded from analysis: No\\nHedonometric Analysis: hedonometer.org/books/v3/34318/\\nProject Gutenberg page: gutenberg.org/ebooks/34318/'"
      ]
     },
     "metadata": {},
     "execution_count": 9
    }
   ],
   "source": [
    "text.text"
   ]
  },
  {
   "cell_type": "code",
   "execution_count": 13,
   "metadata": {},
   "outputs": [],
   "source": [
    "def isSuspense(id):\n",
    "    r = requests.get('https://www.gutenberg.org/ebooks/'+str(id))\n",
    "    if r.text.find('Suspense fiction') != -1:\n",
    "        return True\n",
    "    return False"
   ]
  },
  {
   "cell_type": "code",
   "execution_count": 17,
   "metadata": {},
   "outputs": [
    {
     "output_type": "execute_result",
     "data": {
      "text/plain": [
       "True"
      ]
     },
     "metadata": {},
     "execution_count": 17
    }
   ],
   "source": [
    "for i in range(65540):\n",
    "    if isSuspense(34320)"
   ]
  },
  {
   "cell_type": "code",
   "execution_count": 51,
   "metadata": {
    "tags": []
   },
   "outputs": [],
   "source": [
    "# 从gutenburg爬取所有侦探小说的id\n",
    "# r = requests.get('https://gutenberg.org/ebooks/results/?author=&title=&subject=Detective+Fiction&lang=en&category=&locc=&filetype=&submit_search=Search&pageno=9')\n",
    "r = requests.get('https://gutenberg.org/ebooks/results/?author=&title=&subject=suspense&lang=en&category=&locc=&filetype=&submit_search=Search&pageno=1')\n",
    "soup = BeautifulSoup(r.text, 'html.parser')\n",
    "x = soup.find_all('td')\n",
    "with open('./data/suspense.txt', 'a+') as f:\n",
    "    for i in range(1000):\n",
    "        try:\n",
    "            f.write(str(x[i*5])[4:-5]+'\\n')\n",
    "        except:\n",
    "            break"
   ]
  },
  {
   "cell_type": "code",
   "execution_count": 61,
   "metadata": {},
   "outputs": [],
   "source": [
    "# 下载对应的情感弧文件\n",
    "from selenium import webdriver\n",
    "options = webdriver.ChromeOptions()\n",
    "options.add_argument('user-agent=\"MQQBrowser/26 Mozilla/5.0 (Linux; U; Android 2.3.7; zh-cn; MB200 Build/GRJ22; CyanogenMod-7) AppleWebKit/533.1 (KHTML, like Gecko) Version/4.0 Mobile Safari/533.1\"')\n",
    "options.add_argument('--disable-gpu') \n",
    "# 不加载图片, 提升速度\n",
    "options.add_argument('blink-settings=imagesEnabled=false')\n",
    "# 浏览器不提供可视化页面. linux下如果系统不支持可视化不加这条会启动失败\n",
    "options.add_argument('--headless')\n",
    "path = '../../chromedriver'\n",
    "driver = webdriver.Chrome(options=options, executable_path=path)\n",
    "driver.get(url)\n",
    "text = driver.find_element_by_class_name('basicinfobox')"
   ]
  },
  {
   "cell_type": "code",
   "execution_count": null,
   "metadata": {},
   "outputs": [],
   "source": [
    "with open('../detective.txt', 'r') as f:\n",
    "    a = f.readlines()\n",
    "    for num in a:\n",
    "        url = 'http://hedonometer.org/data/bookdata/gutenberg-007/' + num[:-1] + '.csv'\n",
    "        driver.get(url)"
   ]
  },
  {
   "cell_type": "code",
   "execution_count": 65,
   "metadata": {},
   "outputs": [
    {
     "output_type": "stream",
     "name": "stdout",
     "text": [
      "['223.csv', '15695.csv', '32564.csv', '43362.csv', '25781.csv', '42040.csv', '1748.csv', '9300.csv', '48948.csv', '31535.csv', '33242.csv', '34277.csv', '46178.csv', '2123.csv', '28448.csv', '1833.csv', '34934.csv', '1628.csv', '40722.csv', '4745.csv', '1601.csv', '1832.csv', '39544.csv', '49935.csv', '32439.csv', '35424.csv', '46623.csv', '37019.csv', '38470.csv', '20559.csv', '1563.csv', '45262.csv', '48034.csv', '28071.csv', '42069.csv', '5261.csv', '42902.csv', '34664.csv', '20611.csv', '35022.csv', '2097.csv', '7689.csv', '30827.csv', '45260.csv', '30833.csv', '19523.csv', '2861.csv', '2691.csv', '43765.csv', '33282.csv', '4223.csv', '46153.csv', '21876.csv', '34710.csv', '8155.csv', '10659.csv', '41402.csv', '1159.csv', '42137.csv', '45658.csv', '40721.csv', '2451.csv', '15720.csv', '42687.csv', '1831.csv', '12932.csv', '24933.csv', '27209.csv', '30832.csv', '25595.csv', '26063.csv', '7688.csv', '37146.csv', '23641.csv', '37378.csv', '28264.csv', '221.csv', '547.csv', '42907.csv', '44351.csv', '12659.csv', '25787.csv', '40484.csv', '24102.csv', '21052.csv', '48999.csv', '30836.csv', '44782.csv', '13180.csv', '10476.csv', '40269.csv', '1835.csv', '50287.csv', '17866.csv', '40725.csv', '34926.csv', '3776.csv', '2454.csv', '40042.csv', '25802.csv', '20985.csv', '1834.csv', '32198.csv', '4233.csv', '35146.csv', '33279.csv', '49338.csv', '32985.csv', '43198.csv', '40491.csv', '10067.csv', '42906.csv', '2287.csv', '25753.csv', '44352.csv', '31915.csv', '49676.csv', '40108.csv', '34689.csv', '10059.csv', '19069.csv', '40493.csv', '21737.csv', '5073.csv', '47471.csv', '26925.csv', '39018.csv', '46814.csv', '42333.csv', '50051.csv', '2126.csv', '48144.csv', '45474.csv', '26306.csv', '1836.csv', '34058.csv', '37545.csv', '49931.csv', '27794.csv', '40041.csv', '44227.csv', '10110.csv', '31135.csv', '38663.csv', '5660.csv', '10474.csv', '41001.csv', '46008.csv', '2047.csv', '19295.csv', '33695.csv', '34850.csv', '5270.csv', '44353.csv', '42905.csv', '28504.csv', '47841.csv', '40848.csv', '35254.csv', '43301.csv', '1703.csv', '44693.csv', '3464.csv', '33382.csv', '47417.csv', '31581.csv', '50157.csv', '50792.csv', '3289.csv', '32117.csv', '9983.csv', '37912.csv', '50037.csv', '4531.csv', '863.csv', '5149.csv', '1878.csv', '12947.csv', '42802.csv', '50209.csv', '48320.csv', '36198.csv', '19147.csv', '2343.csv', '40033.csv', '25873.csv', '35484.csv', '1851.csv', '6864.csv', '17180.csv', '12946.csv', '37913.csv', '47562.csv', '35902.csv', '46708.csv', '43102.csv', '33383.csv', '44862.csv', '41259.csv', '51076.csv', '38981.csv', '34611.csv', '38983.csv', '46520.csv', '43699.csv', '5002.csv', '35082.csv', '33381.csv', '49363.csv', '26613.csv', '36366.csv', '5162.csv', '46656.csv', '49798.csv', '44294.csv', '15965.csv', '49983.csv', '6133.csv', '48478.csv', '1661.csv', '45174.csv', '27097.csv', '43263.csv', '43288.csv', '12945.csv', '49799.csv', '37092.csv', '5163.csv', '108.csv', '42545.csv', '40434.csv', '35083.csv', '5003.csv', '32707.csv', '44336.csv', '38969.csv', '34835.csv', '17959.csv', '45038.csv', '41262.csv', '47613.csv', '34831.csv', '45776.csv', '31578.csv', '50192.csv', '35044.csv', '41909.csv', '32059.csv', '905.csv', '42569.csv', '43677.csv', '21794.csv', '5007.csv', '16919.csv', '36377.csv', '33233.csv', '48124.csv', '36388.csv', '35859.csv', '43298.csv', '33019.csv', '2344.csv', '2350.csv', '4047.csv', '12028.csv', '25849.csv', '11252.csv', '25875.csv', '41459.csv', '8668.csv', '2345.csv', '1857.csv', '37929.csv', '14896.csv', '1314.csv', '40586.csv', '15356.csv', '30868.csv', '35247.csv', '1923.csv', '36758.csv', '42740.csv', '34832.csv', '41261.csv', '17999.csv', '29877.csv', '34403.csv', '38577.csv', '44872.csv', '2031.csv', '5004.csv', '33230.csv', '48641.csv', '45417.csv', '48655.csv', '32310.csv', '1699.csv', '42813.csv', '1869.csv', '42807.csv', '34749.csv', '50224.csv', '2347.csv', '45629.csv', '481.csv', '3070.csv', '34947.csv', '2346.csv', '330.csv', '24201.csv', '10359.csv', '19369.csv', '31426.csv', '40585.csv', '18671.csv', '33392.csv', '11127.csv', '45576.csv', '49416.csv', '44873.csv', '41089.csv', '41260.csv', '2568.csv', '37490.csv', '42755.csv', '2554.csv', '244.csv', '28229.csv', '4694.csv', '37338.csv', '28595.csv', '42016.csv', '34369.csv', '32730.csv', '45547.csv', '50604.csv', '33228.csv', '43917.csv', '39063.csv', '49590.csv', '43730.csv', '9746.csv', '1695.csv', '48467.csv', '44249.csv', '26396.csv', '10624.csv', '46462.csv', '25847.csv', '6851.csv', '34591.csv', '19403.csv', '44062.csv', '34552.csv', '9948.csv', '24033.csv', '33567.csv', '24769.csv', '2014.csv', '44670.csv', '31589.csv', '2028.csv', '3336.csv', '28769.csv', '10584.csv', '37113.csv', '32269.csv', '35504.csv', '12187.csv', '10948.csv', '44841.csv', '706.csv', '43135.csv', '28780.csv', '13058.csv', '41078.csv', '40372.csv', '34395.csv', '46850.csv', '41130.csv', '13110.csv', '48882.csv', '49222.csv', '1696.csv', '1872.csv', '34020.csv', '34975.csv', '2348.csv', '14332.csv', '45627.csv', '43256.csv', '2349.csv', '34035.csv', '50014.csv', '34592.csv', '45343.csv', '36346.csv', '1495.csv', '24839.csv', '46064.csv', '11128.csv', '30864.csv', '32732.csv', '40603.csv', '42014.csv', '1720.csv', '35277.csv', '1917.csv', '42010.csv', '4660.csv', '41525.csv', '30647.csv', '34347.csv', '9807.csv', '44111.csv', '38347.csv', '30914.csv', '12948.csv', '22109.csv', '24578.csv', '33004.csv', '1678.csv', '1888.csv', '45622.csv', '45636.csv', '2358.csv', '1651.csv', '43509.csv', '34795.csv', '1686.csv', '44299.csv', '1447.csv', '13882.csv', '2172.csv', '26193.csv', '34597.csv', '21617.csv', '43904.csv', '50165.csv', '50824.csv', '47633.csv', '38030.csv', '40821.csv', '45973.csv', '27890.csv', '48270.csv', '50826.csv', '2789.csv', '40348.csv', '2038.csv', '36396.csv', '5179.csv', '47553.csv', '5151.csv', '20053.csv', '35304.csv', '35462.csv', '49967.csv', '4071.csv', '47989.csv', '47023.csv', '305.csv', '1849.csv', '1685.csv', '38609.csv', '5150.csv', '37062.csv', '35661.csv', '36426.csv', '9795.csv', '45557.csv', '47368.csv', '41719.csv', '39891.csv', '35503.csv', '37314.csv', '23474.csv', '36079.csv', '10082.csv', '3803.csv', '34691.csv', '5094.csv', '37171.csv', '36247.csv', '16168.csv', '45530.csv', '30187.csv', '41187.csv', '21854.csv', '14623.csv', '28333.csv', '42840.csv', '34732.csv', '1621.csv', '48410.csv', '19851.csv', '834.csv', '41151.csv', '35808.csv', '39940.csv', '45492.csv', '1218.csv', '12441.csv', '30838.csv', '29400.csv', '43197.csv', '37170.csv', '23677.csv', '25762.csv', '3180.csv', '10724.csv', '35003.csv', '33466.csv', '22225.csv', '5901.csv', '5054.csv', '46774.csv', '24683.csv', '2868.csv', '49269.csv', '28697.csv', '36481.csv', '39229.csv', '38123.csv', '35361.csv', '6159.csv', '22806.csv', '46402.csv', '46417.csv', '38888.csv', '43584.csv', '21842.csv', '50705.csv', '5121.csv', '45452.csv', '33301.csv', '17099.csv', '1960.csv', '204.csv', '10709.csv', '43351.csv', '12678.csv', '7691.csv', '33305.csv', '23116.csv', '7685.csv', '36335.csv', '21891.csv', '8398.csv', '33271.csv', '172.csv', '35833.csv', '44984.csv', '1814.csv', '39576.csv', '34046.csv', '32437.csv', '1182.csv', '46375.csv', '1155.csv', '14369.csv', '45457.csv', '173.csv', '5695.csv', '29572.csv', '30989.csv', '5087.csv', '7690.csv', '35991.csv', '34443.csv', '42728.csv', '46566.csv', '42714.csv', '34682.csv', '25770.csv', '35205.csv', '45912.csv', '20152.csv', '49694.csv', '1963.csv', '40667.csv', '27824.csv', '44401.csv', '47646.csv', '34441.csv', '41790.csv', '7686.csv', '44824.csv', '1552.csv', '27549.csv', '26657.csv', '2852.csv', '44788.csv', '28849.csv', '10468.csv', '45455.csv', '45680.csv', '43583.csv', '38131.csv', '30586.csv', '26482.csv', '4985.csv', '27789.csv', '34939.csv', '29029.csv', '28337.csv', '40909.csv', '47900.csv', '48164.csv', '170.csv', '40464.csv', '37820.csv', '7687.csv', '34468.csv', '37149.csv', '40666.csv', '1976.csv']\n"
     ]
    }
   ],
   "source": [
    "import os\n",
    "os.chdir('/Users/zinccat/Documents/2021春/rot3/data/detective')\n",
    "os.getcwd()\n",
    "files = os.listdir()\n",
    "for bookfile in files:\n",
    "url = 'http://hedonometer.org/books/v3/34318/?lens=[4,6]'\n"
   ]
  },
  {
   "cell_type": "code",
   "execution_count": 66,
   "metadata": {},
   "outputs": [
    {
     "output_type": "error",
     "ename": "NoSuchElementException",
     "evalue": "Message: no such element: Unable to locate element: {\"method\":\"css selector\",\"selector\":\".basicinfobox\"}\n  (Session info: headless chrome=91.0.4472.77)\n",
     "traceback": [
      "\u001b[0;31m---------------------------------------------------------------------------\u001b[0m",
      "\u001b[0;31mNoSuchElementException\u001b[0m                    Traceback (most recent call last)",
      "\u001b[0;32m<ipython-input-66-5cd808723122>\u001b[0m in \u001b[0;36m<module>\u001b[0;34m\u001b[0m\n\u001b[1;32m     15\u001b[0m         \u001b[0murl\u001b[0m \u001b[0;34m=\u001b[0m \u001b[0;34m'http://hedonometer.org/books/v3/'\u001b[0m \u001b[0;34m+\u001b[0m \u001b[0mnum\u001b[0m\u001b[0;34m[\u001b[0m\u001b[0;34m:\u001b[0m\u001b[0;34m-\u001b[0m\u001b[0;36m1\u001b[0m\u001b[0;34m]\u001b[0m \u001b[0;34m+\u001b[0m \u001b[0;34m'/?lens=[4,6]'\u001b[0m\u001b[0;34m\u001b[0m\u001b[0;34m\u001b[0m\u001b[0m\n\u001b[1;32m     16\u001b[0m         \u001b[0mdriver\u001b[0m\u001b[0;34m.\u001b[0m\u001b[0mget\u001b[0m\u001b[0;34m(\u001b[0m\u001b[0murl\u001b[0m\u001b[0;34m)\u001b[0m\u001b[0;34m\u001b[0m\u001b[0;34m\u001b[0m\u001b[0m\n\u001b[0;32m---> 17\u001b[0;31m         \u001b[0mtext\u001b[0m \u001b[0;34m=\u001b[0m \u001b[0mdriver\u001b[0m\u001b[0;34m.\u001b[0m\u001b[0mfind_element_by_class_name\u001b[0m\u001b[0;34m(\u001b[0m\u001b[0;34m'basicinfobox'\u001b[0m\u001b[0;34m)\u001b[0m\u001b[0;34m\u001b[0m\u001b[0;34m\u001b[0m\u001b[0m\n\u001b[0m\u001b[1;32m     18\u001b[0m         \u001b[0mprint\u001b[0m\u001b[0;34m(\u001b[0m\u001b[0mtext\u001b[0m\u001b[0;34m)\u001b[0m\u001b[0;34m\u001b[0m\u001b[0;34m\u001b[0m\u001b[0m\n\u001b[1;32m     19\u001b[0m         \u001b[0;32mbreak\u001b[0m\u001b[0;34m\u001b[0m\u001b[0;34m\u001b[0m\u001b[0m\n",
      "\u001b[0;32m~/opt/anaconda3/envs/ml/lib/python3.7/site-packages/selenium/webdriver/remote/webdriver.py\u001b[0m in \u001b[0;36mfind_element_by_class_name\u001b[0;34m(self, name)\u001b[0m\n\u001b[1;32m    562\u001b[0m             \u001b[0melement\u001b[0m \u001b[0;34m=\u001b[0m \u001b[0mdriver\u001b[0m\u001b[0;34m.\u001b[0m\u001b[0mfind_element_by_class_name\u001b[0m\u001b[0;34m(\u001b[0m\u001b[0;34m'foo'\u001b[0m\u001b[0;34m)\u001b[0m\u001b[0;34m\u001b[0m\u001b[0;34m\u001b[0m\u001b[0m\n\u001b[1;32m    563\u001b[0m         \"\"\"\n\u001b[0;32m--> 564\u001b[0;31m         \u001b[0;32mreturn\u001b[0m \u001b[0mself\u001b[0m\u001b[0;34m.\u001b[0m\u001b[0mfind_element\u001b[0m\u001b[0;34m(\u001b[0m\u001b[0mby\u001b[0m\u001b[0;34m=\u001b[0m\u001b[0mBy\u001b[0m\u001b[0;34m.\u001b[0m\u001b[0mCLASS_NAME\u001b[0m\u001b[0;34m,\u001b[0m \u001b[0mvalue\u001b[0m\u001b[0;34m=\u001b[0m\u001b[0mname\u001b[0m\u001b[0;34m)\u001b[0m\u001b[0;34m\u001b[0m\u001b[0;34m\u001b[0m\u001b[0m\n\u001b[0m\u001b[1;32m    565\u001b[0m \u001b[0;34m\u001b[0m\u001b[0m\n\u001b[1;32m    566\u001b[0m     \u001b[0;32mdef\u001b[0m \u001b[0mfind_elements_by_class_name\u001b[0m\u001b[0;34m(\u001b[0m\u001b[0mself\u001b[0m\u001b[0;34m,\u001b[0m \u001b[0mname\u001b[0m\u001b[0;34m)\u001b[0m\u001b[0;34m:\u001b[0m\u001b[0;34m\u001b[0m\u001b[0;34m\u001b[0m\u001b[0m\n",
      "\u001b[0;32m~/opt/anaconda3/envs/ml/lib/python3.7/site-packages/selenium/webdriver/remote/webdriver.py\u001b[0m in \u001b[0;36mfind_element\u001b[0;34m(self, by, value)\u001b[0m\n\u001b[1;32m    976\u001b[0m         return self.execute(Command.FIND_ELEMENT, {\n\u001b[1;32m    977\u001b[0m             \u001b[0;34m'using'\u001b[0m\u001b[0;34m:\u001b[0m \u001b[0mby\u001b[0m\u001b[0;34m,\u001b[0m\u001b[0;34m\u001b[0m\u001b[0;34m\u001b[0m\u001b[0m\n\u001b[0;32m--> 978\u001b[0;31m             'value': value})['value']\n\u001b[0m\u001b[1;32m    979\u001b[0m \u001b[0;34m\u001b[0m\u001b[0m\n\u001b[1;32m    980\u001b[0m     \u001b[0;32mdef\u001b[0m \u001b[0mfind_elements\u001b[0m\u001b[0;34m(\u001b[0m\u001b[0mself\u001b[0m\u001b[0;34m,\u001b[0m \u001b[0mby\u001b[0m\u001b[0;34m=\u001b[0m\u001b[0mBy\u001b[0m\u001b[0;34m.\u001b[0m\u001b[0mID\u001b[0m\u001b[0;34m,\u001b[0m \u001b[0mvalue\u001b[0m\u001b[0;34m=\u001b[0m\u001b[0;32mNone\u001b[0m\u001b[0;34m)\u001b[0m\u001b[0;34m:\u001b[0m\u001b[0;34m\u001b[0m\u001b[0;34m\u001b[0m\u001b[0m\n",
      "\u001b[0;32m~/opt/anaconda3/envs/ml/lib/python3.7/site-packages/selenium/webdriver/remote/webdriver.py\u001b[0m in \u001b[0;36mexecute\u001b[0;34m(self, driver_command, params)\u001b[0m\n\u001b[1;32m    319\u001b[0m         \u001b[0mresponse\u001b[0m \u001b[0;34m=\u001b[0m \u001b[0mself\u001b[0m\u001b[0;34m.\u001b[0m\u001b[0mcommand_executor\u001b[0m\u001b[0;34m.\u001b[0m\u001b[0mexecute\u001b[0m\u001b[0;34m(\u001b[0m\u001b[0mdriver_command\u001b[0m\u001b[0;34m,\u001b[0m \u001b[0mparams\u001b[0m\u001b[0;34m)\u001b[0m\u001b[0;34m\u001b[0m\u001b[0;34m\u001b[0m\u001b[0m\n\u001b[1;32m    320\u001b[0m         \u001b[0;32mif\u001b[0m \u001b[0mresponse\u001b[0m\u001b[0;34m:\u001b[0m\u001b[0;34m\u001b[0m\u001b[0;34m\u001b[0m\u001b[0m\n\u001b[0;32m--> 321\u001b[0;31m             \u001b[0mself\u001b[0m\u001b[0;34m.\u001b[0m\u001b[0merror_handler\u001b[0m\u001b[0;34m.\u001b[0m\u001b[0mcheck_response\u001b[0m\u001b[0;34m(\u001b[0m\u001b[0mresponse\u001b[0m\u001b[0;34m)\u001b[0m\u001b[0;34m\u001b[0m\u001b[0;34m\u001b[0m\u001b[0m\n\u001b[0m\u001b[1;32m    322\u001b[0m             response['value'] = self._unwrap_value(\n\u001b[1;32m    323\u001b[0m                 response.get('value', None))\n",
      "\u001b[0;32m~/opt/anaconda3/envs/ml/lib/python3.7/site-packages/selenium/webdriver/remote/errorhandler.py\u001b[0m in \u001b[0;36mcheck_response\u001b[0;34m(self, response)\u001b[0m\n\u001b[1;32m    240\u001b[0m                 \u001b[0malert_text\u001b[0m \u001b[0;34m=\u001b[0m \u001b[0mvalue\u001b[0m\u001b[0;34m[\u001b[0m\u001b[0;34m'alert'\u001b[0m\u001b[0;34m]\u001b[0m\u001b[0;34m.\u001b[0m\u001b[0mget\u001b[0m\u001b[0;34m(\u001b[0m\u001b[0;34m'text'\u001b[0m\u001b[0;34m)\u001b[0m\u001b[0;34m\u001b[0m\u001b[0;34m\u001b[0m\u001b[0m\n\u001b[1;32m    241\u001b[0m             \u001b[0;32mraise\u001b[0m \u001b[0mexception_class\u001b[0m\u001b[0;34m(\u001b[0m\u001b[0mmessage\u001b[0m\u001b[0;34m,\u001b[0m \u001b[0mscreen\u001b[0m\u001b[0;34m,\u001b[0m \u001b[0mstacktrace\u001b[0m\u001b[0;34m,\u001b[0m \u001b[0malert_text\u001b[0m\u001b[0;34m)\u001b[0m\u001b[0;34m\u001b[0m\u001b[0;34m\u001b[0m\u001b[0m\n\u001b[0;32m--> 242\u001b[0;31m         \u001b[0;32mraise\u001b[0m \u001b[0mexception_class\u001b[0m\u001b[0;34m(\u001b[0m\u001b[0mmessage\u001b[0m\u001b[0;34m,\u001b[0m \u001b[0mscreen\u001b[0m\u001b[0;34m,\u001b[0m \u001b[0mstacktrace\u001b[0m\u001b[0;34m)\u001b[0m\u001b[0;34m\u001b[0m\u001b[0;34m\u001b[0m\u001b[0m\n\u001b[0m\u001b[1;32m    243\u001b[0m \u001b[0;34m\u001b[0m\u001b[0m\n\u001b[1;32m    244\u001b[0m     \u001b[0;32mdef\u001b[0m \u001b[0m_value_or_default\u001b[0m\u001b[0;34m(\u001b[0m\u001b[0mself\u001b[0m\u001b[0;34m,\u001b[0m \u001b[0mobj\u001b[0m\u001b[0;34m,\u001b[0m \u001b[0mkey\u001b[0m\u001b[0;34m,\u001b[0m \u001b[0mdefault\u001b[0m\u001b[0;34m)\u001b[0m\u001b[0;34m:\u001b[0m\u001b[0;34m\u001b[0m\u001b[0;34m\u001b[0m\u001b[0m\n",
      "\u001b[0;31mNoSuchElementException\u001b[0m: Message: no such element: Unable to locate element: {\"method\":\"css selector\",\"selector\":\".basicinfobox\"}\n  (Session info: headless chrome=91.0.4472.77)\n"
     ]
    }
   ],
   "source": [
    "# 下载对应的下载量\n",
    "from selenium import webdriver\n",
    "options = webdriver.ChromeOptions()\n",
    "options.add_argument('user-agent=\"MQQBrowser/26 Mozilla/5.0 (Linux; U; Android 2.3.7; zh-cn; MB200 Build/GRJ22; CyanogenMod-7) AppleWebKit/533.1 (KHTML, like Gecko) Version/4.0 Mobile Safari/533.1\"')\n",
    "options.add_argument('--disable-gpu') \n",
    "# 不加载图片, 提升速度\n",
    "options.add_argument('blink-settings=imagesEnabled=false')\n",
    "# 浏览器不提供可视化页面. linux下如果系统不支持可视化不加这条会启动失败\n",
    "options.add_argument('--headless')\n",
    "path = '../../chromedriver'\n",
    "driver = webdriver.Chrome(options=options, executable_path=path)\n",
    "with open('../detective.txt', 'r') as f:\n",
    "    a = f.readlines()\n",
    "    for num in a:\n",
    "        url = 'http://hedonometer.org/books/v3/' + num[:-1] + '/?lens=[4,6]'\n",
    "        driver.get(url)\n",
    "        print(driver.text)\n",
    "        text = driver.find_element_by_class_name('basicinfobox')\n",
    "        print(text)\n",
    "        break"
   ]
  },
  {
   "cell_type": "code",
   "execution_count": 79,
   "metadata": {},
   "outputs": [],
   "source": [
    "# 整理爬到的数据\n",
    "l = []\n",
    "with open('../detective.txt', 'r') as f:\n",
    "    a = f.readlines()\n",
    "    for num in a:\n",
    "        l.append(int(num))\n",
    "l.sort()\n",
    "with open('../sorted_detective.txt', 'a+') as f:\n",
    "    for i in l:\n",
    "        f.write(str(i))\n",
    "        f.write('\\n')"
   ]
  },
  {
   "cell_type": "code",
   "execution_count": 125,
   "metadata": {},
   "outputs": [
    {
     "output_type": "stream",
     "name": "stdout",
     "text": [
      "841\n"
     ]
    }
   ],
   "source": [
    "# 爬取下载量数据\n",
    "from selenium import webdriver\n",
    "options = webdriver.ChromeOptions()\n",
    "options.add_argument('user-agent=\"MQQBrowser/26 Mozilla/5.0 (Linux; U; Android 2.3.7; zh-cn; MB200 Build/GRJ22; CyanogenMod-7) AppleWebKit/533.1 (KHTML, like Gecko) Version/4.0 Mobile Safari/533.1\"')\n",
    "options.add_argument('--disable-gpu') \n",
    "# 不加载图片, 提升速度\n",
    "options.add_argument('blink-settings=imagesEnabled=false')\n",
    "# 浏览器不提供可视化页面. linux下如果系统不支持可视化不加这条会启动失败\n",
    "options.add_argument('--headless')\n",
    "path = '../../chromedriver'\n",
    "driver = webdriver.Chrome(options=options, executable_path=path)\n",
    "\n",
    "flag = False\n",
    "ans = 0\n",
    "with open('../sorted_detective.txt', 'r') as f:\n",
    "    with open('../detective_downloads.txt', 'a+') as g:\n",
    "        a = f.readlines()\n",
    "        for num in a:\n",
    "            ans += 1\n",
    "            # url = 'https://www.gutenberg.org/ebooks/' + num[:-1]\n",
    "            # print(url)\n",
    "            # driver.get(url)\n",
    "            # text = driver.find_element_by_css_selector('td[itemprop=\"interactionCount\"]')\n",
    "            # position = text.text.find('dow')\n",
    "            # if position != -1:\n",
    "            #     downloads = text.text[:position-1]\n",
    "            #     g.write(str(downloads)+'\\n')\n",
    "# driver.quit()\n",
    "print(ans)"
   ]
  },
  {
   "cell_type": "code",
   "execution_count": null,
   "metadata": {},
   "outputs": [],
   "source": []
  }
 ]
}